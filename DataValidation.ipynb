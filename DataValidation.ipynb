{
 "cells": [
  {
   "cell_type": "code",
   "execution_count": 2,
   "metadata": {},
   "outputs": [],
   "source": [
    "import pandas as pd"
   ]
  },
  {
   "cell_type": "code",
   "execution_count": 3,
   "metadata": {},
   "outputs": [],
   "source": [
    "file = pd.read_excel('FNLDataUS.xlsx')"
   ]
  },
  {
   "cell_type": "code",
   "execution_count": 24,
   "metadata": {},
   "outputs": [],
   "source": [
    "columnMapping = {\n",
    "    'Cust Acct':'account_number_billto',\n",
    "    'Customer':'account_name_billto',\n",
    "    'Buying Group 1':'member_name',\n",
    "    'Buying Group 2':'account_group',\n",
    "    'Buying Group 3':'account_name_level2',\n",
    "    'Addressship to':'street_address_bill_to',\n",
    "    'Cityship to':'city_billto',\n",
    "    'Stateship to': 'state_billto',\n",
    "    'Currency':'currency',\n",
    "    'Invoice':'invoice_number',\n",
    "    'InvoiceDate':'invoice_date',\n",
    "    'Po Ref':'customer_po_number',\n",
    "    'Job No':'job_number',\n",
    "    'InvoiceSequence':'invoice_sequence',\n",
    "    'BinLocation':'bin_location',\n",
    "    'Fastenal PartNumber':'pa_distributor_part_number',\n",
    "    'Cust Part':'customer_part_number',\n",
    "    'Description':'short_product_description',\n",
    "    'Long Descr': 'long_product_description',\n",
    "    'STD/BSS':'standard_bss',\n",
    "    'Prod Concept':'product_category',\n",
    "    'Qty Shipped':'shipped_quantity',\n",
    "    'InvoicePrice/EA': 'unit_price',\n",
    "    'InvoiceExt Price':'extended_price',\n",
    "    'CurrentWholesale': 'list_price'\n",
    "\n",
    "}"
   ]
  },
  {
   "cell_type": "code",
   "execution_count": 32,
   "metadata": {},
   "outputs": [],
   "source": [
    "df = file\n",
    "df.rename(columns=lambda x: x.strip(), inplace=True)\n",
    "columnNames = df.columns"
   ]
  },
  {
   "cell_type": "code",
   "execution_count": 34,
   "metadata": {},
   "outputs": [],
   "source": [
    "newColumnNames = []\n",
    "for i in range(0,len(columnNames)):\n",
    "    newColumnNames.append(columnMapping[columnNames[i]])"
   ]
  },
  {
   "cell_type": "code",
   "execution_count": 35,
   "metadata": {},
   "outputs": [
    {
     "data": {
      "text/plain": [
       "['account_number_billto',\n",
       " 'account_name_billto',\n",
       " 'member_name',\n",
       " 'account_group',\n",
       " 'account_name_level2',\n",
       " 'street_address_bill_to',\n",
       " 'city_billto',\n",
       " 'state_billto',\n",
       " 'currency',\n",
       " 'invoice_number',\n",
       " 'invoice_date',\n",
       " 'customer_po_number',\n",
       " 'job_number',\n",
       " 'invoice_sequence',\n",
       " 'bin_location',\n",
       " 'pa_distributor_part_number',\n",
       " 'customer_part_number',\n",
       " 'short_product_description',\n",
       " 'long_product_description',\n",
       " 'standard_bss',\n",
       " 'product_category',\n",
       " 'shipped_quantity',\n",
       " 'unit_price',\n",
       " 'extended_price',\n",
       " 'list_price']"
      ]
     },
     "execution_count": 35,
     "metadata": {},
     "output_type": "execute_result"
    }
   ],
   "source": [
    "newColumnNames"
   ]
  },
  {
   "cell_type": "code",
   "execution_count": 36,
   "metadata": {},
   "outputs": [],
   "source": [
    "df.columns = newColumnNames"
   ]
  },
  {
   "cell_type": "code",
   "execution_count": 38,
   "metadata": {},
   "outputs": [
    {
     "data": {
      "text/plain": [
       "0        IL0030005\n",
       "1        IL0030005\n",
       "2        IL0030005\n",
       "3        IL0030005\n",
       "4        IL0030005\n",
       "           ...    \n",
       "46460    MOSL31268\n",
       "46461    MOSL31268\n",
       "46462    MOSL31268\n",
       "46463    MOSL31268\n",
       "46464    MOSL31268\n",
       "Name: account_number_billto, Length: 46465, dtype: object"
      ]
     },
     "execution_count": 38,
     "metadata": {},
     "output_type": "execute_result"
    }
   ],
   "source": [
    "df['account_number_billto'].findN"
   ]
  },
  {
   "cell_type": "code",
   "execution_count": 39,
   "metadata": {},
   "outputs": [],
   "source": [
    "DF_new_row=df[df['account_number_billto']=='']"
   ]
  },
  {
   "cell_type": "code",
   "execution_count": 40,
   "metadata": {},
   "outputs": [
    {
     "data": {
      "text/html": [
       "<div>\n",
       "<style scoped>\n",
       "    .dataframe tbody tr th:only-of-type {\n",
       "        vertical-align: middle;\n",
       "    }\n",
       "\n",
       "    .dataframe tbody tr th {\n",
       "        vertical-align: top;\n",
       "    }\n",
       "\n",
       "    .dataframe thead th {\n",
       "        text-align: right;\n",
       "    }\n",
       "</style>\n",
       "<table border=\"1\" class=\"dataframe\">\n",
       "  <thead>\n",
       "    <tr style=\"text-align: right;\">\n",
       "      <th></th>\n",
       "      <th>account_number_billto</th>\n",
       "      <th>account_name_billto</th>\n",
       "      <th>member_name</th>\n",
       "      <th>account_group</th>\n",
       "      <th>account_name_level2</th>\n",
       "      <th>street_address_bill_to</th>\n",
       "      <th>city_billto</th>\n",
       "      <th>state_billto</th>\n",
       "      <th>currency</th>\n",
       "      <th>invoice_number</th>\n",
       "      <th>...</th>\n",
       "      <th>pa_distributor_part_number</th>\n",
       "      <th>customer_part_number</th>\n",
       "      <th>short_product_description</th>\n",
       "      <th>long_product_description</th>\n",
       "      <th>standard_bss</th>\n",
       "      <th>product_category</th>\n",
       "      <th>shipped_quantity</th>\n",
       "      <th>unit_price</th>\n",
       "      <th>extended_price</th>\n",
       "      <th>list_price</th>\n",
       "    </tr>\n",
       "  </thead>\n",
       "  <tbody>\n",
       "  </tbody>\n",
       "</table>\n",
       "<p>0 rows × 25 columns</p>\n",
       "</div>"
      ],
      "text/plain": [
       "Empty DataFrame\n",
       "Columns: [account_number_billto, account_name_billto, member_name, account_group, account_name_level2, street_address_bill_to, city_billto, state_billto, currency, invoice_number, invoice_date, customer_po_number, job_number, invoice_sequence, bin_location, pa_distributor_part_number, customer_part_number, short_product_description, long_product_description, standard_bss, product_category, shipped_quantity, unit_price, extended_price, list_price]\n",
       "Index: []\n",
       "\n",
       "[0 rows x 25 columns]"
      ]
     },
     "execution_count": 40,
     "metadata": {},
     "output_type": "execute_result"
    }
   ],
   "source": [
    "DF_new_row"
   ]
  },
  {
   "cell_type": "code",
   "execution_count": null,
   "metadata": {},
   "outputs": [],
   "source": []
  }
 ],
 "metadata": {
  "kernelspec": {
   "display_name": "Python 3",
   "language": "python",
   "name": "python3"
  },
  "language_info": {
   "codemirror_mode": {
    "name": "ipython",
    "version": 3
   },
   "file_extension": ".py",
   "mimetype": "text/x-python",
   "name": "python",
   "nbconvert_exporter": "python",
   "pygments_lexer": "ipython3",
   "version": "3.7.3"
  }
 },
 "nbformat": 4,
 "nbformat_minor": 2
}
